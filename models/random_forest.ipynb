{
 "cells": [
  {
   "cell_type": "code",
   "execution_count": 33,
   "metadata": {},
   "outputs": [],
   "source": [
    "import pandas as pd\n",
    "df_train = pd.read_csv('training_data.csv')\n",
    "df_test =  pd.read_csv('test_data.csv')"
   ]
  },
  {
   "cell_type": "code",
   "execution_count": 36,
   "metadata": {},
   "outputs": [
    {
     "data": {
      "text/plain": [
       "Index(['town', '#rooms', 'storey_range_processed', 'floor_area_sqm',\n",
       "       'flat_model', 'remaining_lease', 'dist_nearest_bus_terminal',\n",
       "       'bus_terminals_within_500m', 'bus_terminals_within_800m',\n",
       "       'bus_terminals_within_1000m', 'dist_nearest_mrt',\n",
       "       'dist_nearest_hawker_centers', 'dist_nearest_hospitals',\n",
       "       'dist_nearest_mall', 'malls_within_3km', 'malls_within_5km',\n",
       "       'dist_nearest_supermarkets', 'dist_nearest_schools',\n",
       "       'dist_nearest_sport_facilities', 'resale_price', 'price_per_sqm'],\n",
       "      dtype='object')"
      ]
     },
     "execution_count": 36,
     "metadata": {},
     "output_type": "execute_result"
    }
   ],
   "source": [
    "df_train.columns"
   ]
  },
  {
   "cell_type": "code",
   "execution_count": 39,
   "metadata": {},
   "outputs": [],
   "source": [
    "from sklearn.preprocessing import OneHotEncoder\n",
    "from sklearn.preprocessing import LabelEncoder\n",
    "enc1 = LabelEncoder()\n",
    "df_train['flat_model'] = enc1.fit_transform(df_train['flat_model'])\n",
    "df_test['flat_model'] = enc1.transform(df_test['flat_model'])\n",
    "enc2 = OneHotEncoder(handle_unknown='ignore')\n",
    "enc_df = pd.DataFrame(enc2.fit_transform(df_train[['flat_model']]).toarray())\n",
    "df_train = df_train.join(enc_df)\n",
    "enc_df = pd.DataFrame(enc2.transform(df_test[['flat_model']]).toarray())\n",
    "df_test = df_test.join(enc_df)"
   ]
  },
  {
   "cell_type": "code",
   "execution_count": 45,
   "metadata": {},
   "outputs": [],
   "source": [
    "X = df_train.drop(columns=['town', 'flat_model','resale_price','price_per_sqm'])\n",
    "y_1 = df_train['resale_price']\n",
    "y_2 = df_train['price_per_sqm']\n",
    "X_test = df_test.drop(columns=['town', 'flat_model','resale_price','price_per_sqm'])\n",
    "y_test_1 = df_test['resale_price']\n",
    "y_test_2 = df_test['price_per_sqm']"
   ]
  },
  {
   "cell_type": "code",
   "execution_count": 46,
   "metadata": {},
   "outputs": [
    {
     "name": "stdout",
     "output_type": "stream",
     "text": [
      "K-fold CV average MSE: -822688542.83\n"
     ]
    }
   ],
   "source": [
    "from sklearn.ensemble import RandomForestRegressor\n",
    "from sklearn.model_selection import cross_val_score, KFold\n",
    "\n",
    "regressor_1 = RandomForestRegressor(n_estimators=20, random_state=0)\n",
    "regressor_1.fit(X, y_1)\n",
    "\n",
    "# CV \n",
    "kfold = KFold(n_splits=5, shuffle=True)\n",
    "kf_cv_scores = cross_val_score(regressor_1, X, y_1, cv=kfold, scoring='neg_mean_squared_error')\n",
    "print(\"K-fold CV average MSE: %.2f\" % kf_cv_scores.mean())\n",
    "\n",
    "y_pred_1 = regressor_1.predict(X_test)"
   ]
  },
  {
   "cell_type": "code",
   "execution_count": 47,
   "metadata": {},
   "outputs": [
    {
     "name": "stdout",
     "output_type": "stream",
     "text": [
      "Mean Absolute Error: 20122.597629150947\n",
      "Mean Squared Error: 790168464.0317293\n",
      "Root Mean Squared Error: 28109.935325996918\n"
     ]
    }
   ],
   "source": [
    "from sklearn import metrics\n",
    "\n",
    "print('Mean Absolute Error:', metrics.mean_absolute_error(y_test_1, y_pred_1))\n",
    "print('Mean Squared Error:', metrics.mean_squared_error(y_test_1, y_pred_1))\n",
    "print('Root Mean Squared Error:', np.sqrt(metrics.mean_squared_error(y_test_1, y_pred_1)))"
   ]
  },
  {
   "cell_type": "code",
   "execution_count": 48,
   "metadata": {},
   "outputs": [
    {
     "name": "stdout",
     "output_type": "stream",
     "text": [
      "K-fold CV average MSE: -82495.89\n"
     ]
    }
   ],
   "source": [
    "regressor_2 = RandomForestRegressor(n_estimators=20, random_state=0)\n",
    "regressor_2.fit(X, y_2)\n",
    "\n",
    "# CV \n",
    "kfold = KFold(n_splits=5, shuffle=True)\n",
    "kf_cv_scores = cross_val_score(regressor_2, X, y_2, cv=kfold, scoring='neg_mean_squared_error')\n",
    "print(\"K-fold CV average MSE: %.2f\" % kf_cv_scores.mean())\n",
    "\n",
    "y_pred_2 = regressor_2.predict(X_test)*X_test['floor_area_sqm']"
   ]
  },
  {
   "cell_type": "code",
   "execution_count": 49,
   "metadata": {},
   "outputs": [
    {
     "name": "stdout",
     "output_type": "stream",
     "text": [
      "Mean Absolute Error: 19793.604969235723\n",
      "Mean Squared Error: 757120859.6108847\n",
      "Root Mean Squared Error: 27515.8292553738\n"
     ]
    }
   ],
   "source": [
    "from sklearn import metrics\n",
    "\n",
    "print('Mean Absolute Error:', metrics.mean_absolute_error(y_test_1, y_pred_2))\n",
    "print('Mean Squared Error:', metrics.mean_squared_error(y_test_1, y_pred_2))\n",
    "print('Root Mean Squared Error:', np.sqrt(metrics.mean_squared_error(y_test_1, y_pred_2)))"
   ]
  },
  {
   "cell_type": "code",
   "execution_count": null,
   "metadata": {},
   "outputs": [],
   "source": []
  }
 ],
 "metadata": {
  "kernelspec": {
   "display_name": "Python 3",
   "language": "python",
   "name": "python3"
  },
  "language_info": {
   "codemirror_mode": {
    "name": "ipython",
    "version": 3
   },
   "file_extension": ".py",
   "mimetype": "text/x-python",
   "name": "python",
   "nbconvert_exporter": "python",
   "pygments_lexer": "ipython3",
   "version": "3.7.5"
  },
  "toc": {
   "base_numbering": 1,
   "nav_menu": {},
   "number_sections": true,
   "sideBar": true,
   "skip_h1_title": false,
   "title_cell": "Table of Contents",
   "title_sidebar": "Contents",
   "toc_cell": false,
   "toc_position": {},
   "toc_section_display": true,
   "toc_window_display": false
  },
  "varInspector": {
   "cols": {
    "lenName": 16,
    "lenType": 16,
    "lenVar": 40
   },
   "kernels_config": {
    "python": {
     "delete_cmd_postfix": "",
     "delete_cmd_prefix": "del ",
     "library": "var_list.py",
     "varRefreshCmd": "print(var_dic_list())"
    },
    "r": {
     "delete_cmd_postfix": ") ",
     "delete_cmd_prefix": "rm(",
     "library": "var_list.r",
     "varRefreshCmd": "cat(var_dic_list()) "
    }
   },
   "types_to_exclude": [
    "module",
    "function",
    "builtin_function_or_method",
    "instance",
    "_Feature"
   ],
   "window_display": false
  }
 },
 "nbformat": 4,
 "nbformat_minor": 2
}
